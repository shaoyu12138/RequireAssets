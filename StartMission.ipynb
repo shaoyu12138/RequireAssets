{
  "cells": [
    {
      "cell_type": "markdown",
      "metadata": {
        "id": "yhcjBvuWAaXY"
      },
      "source": [
        "# 在colab 中 使用GeminiAPI 完成小说生成"
      ]
    },
    {
      "cell_type": "markdown",
      "metadata": {
        "id": "6TRE3bsDAaXf"
      },
      "source": [
        "## 下载并解压配置文件"
      ]
    },
    {
      "cell_type": "code",
      "execution_count": null,
      "metadata": {
        "colab": {
          "base_uri": "https://localhost:8080/"
        },
        "id": "ZIlkkfJGAaXg",
        "outputId": "522c95f5-fc9e-4bdf-f256-b699fcfd67b7"
      },
      "outputs": [],
      "source": [
        "# 下载ZIP文件\n",
        "!wget https://github.com/shaoyu12138/RequireAssets/raw/main/RequireAssets.zip -O /content/RequireAssets.zip\n",
        "\n",
        "import shutil\n",
        "import os\n",
        "\n",
        "# 解压到当前工作目录\n",
        "shutil.unpack_archive('/content/RequireAssets.zip', '/content/')\n",
        "print(\"文件已解压到: /content/\")\n",
        "\n",
        "# 将RequireAssets文件夹内的内容移到当前工作目录\n",
        "src_dir = '/content/RequireAssets'\n",
        "if os.path.exists(src_dir):\n",
        "    for item in os.listdir(src_dir):\n",
        "        shutil.move(os.path.join(src_dir, item), '/content/')\n",
        "    os.rmdir(src_dir)\n",
        "    print(\"文件已移动并删除RequireAssets文件夹。\")\n",
        "\n",
        "# 删除ZIP文件\n",
        "os.remove('/content/RequireAssets.zip')\n",
        "print(\"ZIP文件已删除。\")\n"
      ]
    },
    {
      "cell_type": "markdown",
      "metadata": {
        "id": "kaCHzqabBXty"
      },
      "source": [
        "## 下载依赖"
      ]
    },
    {
      "cell_type": "code",
      "execution_count": null,
      "metadata": {
        "colab": {
          "base_uri": "https://localhost:8080/"
        },
        "id": "Zt13aa12BbSH",
        "outputId": "eb81b5ae-3d33-4904-a6b2-195a690e3942"
      },
      "outputs": [],
      "source": [
        "!pip install -r requirements.txt"
      ]
    },
    {
      "cell_type": "markdown",
      "metadata": {
        "id": "9dbWPBpgAaXp"
      },
      "source": [
        "## **基础项目构建**"
      ]
    },
    {
      "cell_type": "code",
      "execution_count": null,
      "metadata": {
        "colab": {
          "base_uri": "https://localhost:8080/"
        },
        "id": "CxdSNV6xAaXp",
        "outputId": "95d3d25b-86ea-425b-aae3-d446d3769a1f"
      },
      "outputs": [],
      "source": [
        "import os\n",
        "book_name = \"生成书籍\"\n",
        "book_name = os.path.join(book_name)\n",
        "\n",
        "# 定义目录和文件结构\n",
        "project_dir = book_name\n",
        "configs_dir = os.path.join(project_dir, \"configs\")\n",
        "temp_1_dir = os.path.join(project_dir, \"temp_1\")\n",
        "temp_2_dir = os.path.join(project_dir, \"temp_2\")\n",
        "output_dir = os.path.join(project_dir, \"output\")\n",
        "\n",
        "# 创建文件夹\n",
        "if not os.path.exists(configs_dir):\n",
        "    os.makedirs(configs_dir)\n",
        "if not os.path.exists(temp_1_dir):\n",
        "    os.makedirs(temp_1_dir)\n",
        "if not os.path.exists(temp_2_dir):\n",
        "    os.makedirs(temp_2_dir)\n",
        "if not os.path.exists(output_dir):\n",
        "    os.makedirs(output_dir)\n",
        "\n",
        "# 创建配置文件\n",
        "outline_path = os.path.join(configs_dir, \"outline.txt\")\n",
        "\n",
        "# 确保目录存在\n",
        "os.makedirs(configs_dir, exist_ok=True)\n",
        "\n",
        "# 创建文件（如果不存在）\n",
        "if not os.path.exists(outline_path):\n",
        "    with open(outline_path, \"w\", encoding=\"utf-8\") as f:\n",
        "        pass  # 创建空文件\n",
        "\n",
        "print(f\"配置文件已经创建{outline_path}\")"
      ]
    },
    {
      "cell_type": "markdown",
      "metadata": {
        "id": "8xc5k8cjBtq_"
      },
      "source": [
        "## **运行第几组**"
      ]
    },
    {
      "cell_type": "code",
      "execution_count": null,
      "metadata": {
        "id": "QJO7T0S8Bus2"
      },
      "outputs": [],
      "source": [
        "# 默认为5组，批次数量为6，一般输入是30部分，预期输出12w字\n",
        "k = 1  # 起始批次编号\n",
        "benchsize = 6  # 每个批次的文件夹数量"
      ]
    },
    {
      "cell_type": "markdown",
      "metadata": {
        "id": "w4cmRHnKAaXs"
      },
      "source": [
        "## **构建组级别的配置文件夹**"
      ]
    },
    {
      "cell_type": "code",
      "execution_count": null,
      "metadata": {
        "colab": {
          "base_uri": "https://localhost:8080/"
        },
        "id": "hUzF8bwuAaXt",
        "outputId": "5c6768e5-88cb-419b-a8de-991aa10fc549"
      },
      "outputs": [],
      "source": [
        "import os\n",
        "\n",
        "def process_file(input_file, temp_1_dir, k, benchsize):\n",
        "    \"\"\"\n",
        "    处理文本文件，将其按 \"---\" 分割，并在输出目录创建子文件夹和配置文件。\n",
        "\n",
        "    Args:\n",
        "        input_file: 输入文本文件的路径。\n",
        "        temp_1_dir: 输出文件夹的路径。\n",
        "        k:  批次编号 (用于计算起始文件夹编号)。\n",
        "        benchsize: 每个批次生成的文件夹数量。\n",
        "    \"\"\"\n",
        "\n",
        "    try:\n",
        "        with open(input_file, 'r', encoding='utf-8') as f:\n",
        "            content = f.read()\n",
        "    except FileNotFoundError:\n",
        "        print(f\"错误：找不到输入文件 {input_file}\")\n",
        "        return\n",
        "    except Exception as e:\n",
        "        print(f\"读取文件时发生错误：{e}\")\n",
        "        return\n",
        "\n",
        "    segments = content.split(\"---\")\n",
        "    segments = [seg.strip() for seg in segments if seg.strip()]  # 去除空字符串\n",
        "\n",
        "    start_index = (k - 1) * benchsize  # 计算起始索引\n",
        "    end_index = start_index + benchsize   #计算终止索引\n",
        "    segments = segments[start_index:end_index]\n",
        "\n",
        "    if not os.path.exists(temp_1_dir):\n",
        "        try:\n",
        "            os.makedirs(temp_1_dir)\n",
        "        except Exception as e:\n",
        "            print(f\"创建输出文件夹 {temp_1_dir} 失败: {e}\")\n",
        "            return\n",
        "\n",
        "    for i, segment in enumerate(segments):\n",
        "        folder_name = str(start_index + i + 1)  # 使用计算出的起始索引\n",
        "        folder_path = os.path.join(temp_1_dir, folder_name)\n",
        "\n",
        "        try:\n",
        "            os.makedirs(folder_path, exist_ok=True)\n",
        "        except Exception as e:\n",
        "            print(f\"创建文件夹 {folder_path} 失败: {e}\")\n",
        "            continue\n",
        "\n",
        "        config_file_path = os.path.join(folder_path, \"config.txt\")\n",
        "        try:\n",
        "            with open(config_file_path, 'w', encoding='utf-8') as config_file:\n",
        "                config_file.write(segment)\n",
        "        except Exception as e:\n",
        "            print(f\"写入配置文件 {config_file_path} 失败: {e}\")\n",
        "            continue\n",
        "\n",
        "        print(f\"已创建文件夹 {folder_name}，并写入 config.txt\")\n",
        "\n",
        "    print(f\"任务完成，文件已分割并存储在 {temp_1_dir}\")\n",
        "\n",
        "\n",
        "if __name__ == '__main__':\n",
        "    input_file_path = os.path.join(configs_dir, \"outline.txt\")\n",
        "    temp_1_directory_path = temp_1_dir\n",
        "\n",
        "    if os.path.exists(input_file_path):\n",
        "      process_file(input_file_path, temp_1_dir, k, benchsize)\n",
        "    else:\n",
        "        print(f\"错误：输入文件路径不存在: {input_file_path}\")"
      ]
    },
    {
      "cell_type": "markdown",
      "metadata": {
        "id": "rZ_Y7AytAaXw"
      },
      "source": [
        "## **定义网文类型**\n",
        "- 常见的网文类型可以见`story_type[]数组`内容，选择合适的序号即可。"
      ]
    },
    {
      "cell_type": "code",
      "execution_count": null,
      "metadata": {
        "colab": {
          "base_uri": "https://localhost:8080/"
        },
        "id": "XYNqPLPAAaXx",
        "outputId": "844a7f76-43e9-44c7-b07d-b72cf0bc9d4c"
      },
      "outputs": [],
      "source": [
        "# 默认使用 1\n",
        "story_num = 1\n",
        "\n",
        "## 故事类型数组\n",
        "story_types = [\n",
        "# 通用\n",
        "    \"网文\",\n",
        "# 可选列表\n",
        "    \"穿越文\",\n",
        "    \"系统文\",\n",
        "    \"种田文\",\n",
        "    \"超能力文\",\n",
        "    \"都市文\",\n",
        "    \"同人文\",\n",
        "    \"重生文\",\n",
        "]\n",
        "\n",
        "story_num = int(story_num)- 1  # 将 story_num 转换为整数，使用从1开始的自然计数。\n",
        "story_type = story_types[story_num]\n",
        "print(story_type)"
      ]
    },
    {
      "cell_type": "markdown",
      "metadata": {
        "id": "_vudTelAAaXy"
      },
      "source": [
        "## **配置Google生成模型型号**\n",
        "- python库的安装\n",
        "```\n",
        "pip install google-genai\n",
        "\n",
        "```"
      ]
    },
    {
      "cell_type": "code",
      "execution_count": null,
      "metadata": {
        "id": "s4M-HHmaAaX0"
      },
      "outputs": [],
      "source": [
        "# gemini-2.0-flash  gemini-exp-1206  gemini-2.0-flash-thinking-exp-01-21  gemini-2.0-pro-exp-02-05\n",
        "\n",
        "# 默认模型名称\n",
        "model_name = \"gemini-2.0-flash\"\n",
        "\n",
        "# 生成组剧情时使用的模型名称\n",
        "special_model_name = \"gemini-2.0-flash\""
      ]
    },
    {
      "cell_type": "markdown",
      "metadata": {
        "id": "9NzHbYrVAaX1"
      },
      "source": [
        "## **定义生成的开始和结束章节**\n",
        "- 默认全部生成"
      ]
    },
    {
      "cell_type": "code",
      "execution_count": null,
      "metadata": {
        "id": "hwhsLzFXAaX2"
      },
      "outputs": [],
      "source": [
        "start_number = 1\n",
        "end_number = 1000 # 选一个足够大的数以便处理全部的内容"
      ]
    },
    {
      "cell_type": "markdown",
      "metadata": {
        "id": "HVBhUh-mAaX3"
      },
      "source": [
        "## **规定并发数**"
      ]
    },
    {
      "cell_type": "code",
      "execution_count": null,
      "metadata": {
        "id": "7FpBYuuPAaX4"
      },
      "outputs": [],
      "source": [
        "# 大纲生成的并发数 = APIKEYS的数目 * 0.5\n",
        "max_threads = 3\n",
        "# 文件生成的并发数\n",
        "max_workers = 22"
      ]
    },
    {
      "cell_type": "markdown",
      "metadata": {
        "id": "8gQr4xAEAaX4"
      },
      "source": [
        "# 导入库文件"
      ]
    },
    {
      "cell_type": "code",
      "execution_count": null,
      "metadata": {
        "id": "pY7m5bsPAaX5"
      },
      "outputs": [],
      "source": [
        "from gemini_utils import *\n",
        "from string_utils import *"
      ]
    },
    {
      "cell_type": "markdown",
      "metadata": {
        "id": "BUiBQTikAaX5"
      },
      "source": [
        "## 构造每一组的剧情\n",
        "> 一个组有9章"
      ]
    },
    {
      "cell_type": "code",
      "execution_count": null,
      "metadata": {
        "colab": {
          "base_uri": "https://localhost:8080/"
        },
        "id": "mhY83UC0AaX6",
        "outputId": "a20ce06b-06ac-4584-9caa-7e7e2f979347"
      },
      "outputs": [],
      "source": [
        "import os\n",
        "import concurrent.futures\n",
        "\n",
        "def process_folders(input_dir_base, start_folder, end_folder, concurrency=4):\n",
        "    # 声明全局变量 (这些全局变量需要在函数外部定义)\n",
        "    global story_type  # 文章设定\n",
        "    global special_model_name  # 使用的特殊模型型号\n",
        "\n",
        "    # 预先加载提示词 (假设 file_to_string 和 replaceStringSymbol 函数已定义)\n",
        "    PlotsExpand   = file_to_string('assets_plots/PlotsExpand.txt')\n",
        "    PlotsExpand_1 = file_to_string('assets_plots/1.txt')\n",
        "    PlotsExpand_2 = file_to_string('assets_plots/2.txt')\n",
        "    PlotsExpand_3 = file_to_string('assets_plots/3.txt')\n",
        "    PlotsExpand_4 = file_to_string('assets_plots/4.txt')\n",
        "    PlotsExpand_5 = file_to_string('assets_plots/5.txt')\n",
        "    PlotsExpand_6 = file_to_string('assets_plots/6.txt')\n",
        "    PlotsExpand_7 = file_to_string('assets_plots/7.txt')\n",
        "    PlotsExpand_8 = file_to_string('assets_plots/8.txt')\n",
        "    PlotsExpand_9 = file_to_string('assets_plots/9.txt')\n",
        "\n",
        "    # 替换故事类型\n",
        "    PlotsExpand = replaceStringSymbol(PlotsExpand, \"{story_type}\", story_type)\n",
        "\n",
        "    # 定义处理单个文件夹的内部函数\n",
        "    def process_single_folder(folder_num):\n",
        "        # 定义输入文件夹路径\n",
        "        input_dir = os.path.join(input_dir_base, str(folder_num))\n",
        "        # 检查文件夹是否存在\n",
        "        if os.path.exists(input_dir):\n",
        "            input_file = os.path.join(input_dir, 'config.txt')\n",
        "            # 检查 config.txt 文件是否存在\n",
        "            if os.path.exists(input_file):\n",
        "                # 读取上下文参考文本，并替换模板中的 {storylines}\n",
        "                publicPlotsExpand = PlotsExpand\n",
        "                context_file = file_to_string(input_file)\n",
        "                publicPlotsExpand = replaceStringSymbol(publicPlotsExpand, \"{storylines}\", context_file)\n",
        "\n",
        "                PlotsExpands = [\n",
        "                    publicPlotsExpand, PlotsExpand_1, PlotsExpand_2, PlotsExpand_3, PlotsExpand_4,\n",
        "                    PlotsExpand_5, PlotsExpand_6, PlotsExpand_7, PlotsExpand_8, PlotsExpand_9\n",
        "                ]\n",
        "                # 开始流程设计 (假设 generate_answers 和 extract_code_blocks 函数已定义)\n",
        "                answers = generate_answers(PlotsExpands, 9, special_model_name)\n",
        "                answers = extract_code_blocks(answers, 9, False)\n",
        "                # 保存结果到 setup.txt\n",
        "                string_to_file(answers, os.path.join(input_dir, 'setup.txt'))\n",
        "                print(f\"Saved setup.txt in {input_dir}\")\n",
        "            else:\n",
        "                print(f\"Warning: config.txt not found in {input_dir}\")\n",
        "        else:\n",
        "            print(f\"Skipping folder {folder_num} (not found)\")\n",
        "\n",
        "    # 使用 ThreadPoolExecutor 进行并发处理\n",
        "    with concurrent.futures.ThreadPoolExecutor(max_workers=concurrency) as executor:\n",
        "        # 为每个文件夹提交任务\n",
        "        futures = [executor.submit(process_single_folder, folder_num)\n",
        "                   for folder_num in range(start_folder, end_folder + 1)]\n",
        "        # 等待所有任务完成\n",
        "        concurrent.futures.wait(futures)\n",
        "\n",
        "    print(f\"Finished processing folders {start_folder} to {end_folder}\")\n",
        "\n",
        "\n",
        "# 调用示例 (假设 temp_1_dir, start_number, end_number, story_type, special_model_name 已定义)\n",
        "process_folders(temp_1_dir, start_number, end_number ,max_workers)\n"
      ]
    },
    {
      "cell_type": "markdown",
      "metadata": {
        "id": "hSYlNHK8AaX7"
      },
      "source": [
        "## 配置每一个章节的输入文本"
      ]
    },
    {
      "cell_type": "code",
      "execution_count": null,
      "metadata": {
        "colab": {
          "base_uri": "https://localhost:8080/"
        },
        "id": "PlAitX8kAaX7",
        "outputId": "67c93846-c106-498a-a6e3-efc8186c0036"
      },
      "outputs": [],
      "source": [
        "import os\n",
        "import re\n",
        "\n",
        "def process_folders_2(start_num, end_num, folder_path):\n",
        "    \"\"\"\n",
        "    遍历指定文件夹路径中指定序号范围的文件夹，处理 setup.txt 并生成 output 文件。\n",
        "    如果 output 文件夹已存在，则跳过该文件夹的处理。\n",
        "\n",
        "    Args:\n",
        "        start_num (int): 起始文件夹序号。\n",
        "        end_num (int): 结束文件夹序号。\n",
        "        folder_path (str): 文件夹路径。\n",
        "    \"\"\"\n",
        "    for k in range(start_num, end_num + 1):\n",
        "        folder_name = str(k)  # 将文件夹序号转换为字符串，用于后续路径拼接\n",
        "        current_folder_path = os.path.join(folder_path, folder_name)\n",
        "\n",
        "        if not os.path.isdir(current_folder_path):\n",
        "            print(f\"警告：文件夹 '{current_folder_path}' 不存在，跳过。\")\n",
        "            continue\n",
        "\n",
        "        output_folder_path = os.path.join(current_folder_path, \"output\")\n",
        "        if os.path.exists(output_folder_path):\n",
        "            print(f\"警告：文件夹 '{output_folder_path}' 已存在，跳过文件夹 '{current_folder_path}' 的处理。\")\n",
        "            continue\n",
        "\n",
        "        config_file_path = os.path.join(current_folder_path, \"setup.txt\")\n",
        "\n",
        "        if not os.path.isfile(config_file_path):\n",
        "            print(f\"警告：文件 '{config_file_path}' 不存在，跳过文件夹 '{current_folder_path}'。\")\n",
        "            continue\n",
        "\n",
        "        try:\n",
        "            with open(config_file_path, \"r\", encoding=\"utf-8\") as f:\n",
        "                config_content = f.read()\n",
        "        except Exception as e:\n",
        "            print(f\"警告：读取文件 '{config_file_path}' 失败：{e}，跳过文件夹 '{current_folder_path}'。\")\n",
        "            continue\n",
        "\n",
        "        # 使用 \"===\" 分割得到字符串数组\n",
        "        split_content = re.split(r\"===\", config_content.strip())\n",
        "        split_content = [item.strip() for item in split_content if item.strip()] #去除空字符串\n",
        "\n",
        "        os.makedirs(output_folder_path, exist_ok=True) #创建 output 文件夹\n",
        "\n",
        "        start_file_num = (k - 1) * 9 + 1 # 计算起始文件名序号\n",
        "        for i, item in enumerate(split_content):\n",
        "            file_num = start_file_num + i # 计算当前文件名序号\n",
        "            output_file_name = f\"{file_num}.txt\"\n",
        "            output_file_path = os.path.join(output_folder_path, output_file_name)\n",
        "\n",
        "            try:\n",
        "                with open(output_file_path, \"w\", encoding=\"utf-8\") as f:\n",
        "                    f.write(item)\n",
        "            except Exception as e:\n",
        "                print(f\"警告：写入文件 '{output_file_path}' 失败：{e}，跳过写入此文件。\")\n",
        "\n",
        "        print(f\"文件夹 '{current_folder_path}' 处理完成。\")\n",
        "\n",
        "\n",
        "process_folders_2(start_number, end_number, temp_1_dir)"
      ]
    },
    {
      "cell_type": "markdown",
      "metadata": {
        "id": "TduWuEZpAaX8"
      },
      "source": [
        "## 构造路径文件夹"
      ]
    },
    {
      "cell_type": "code",
      "execution_count": null,
      "metadata": {
        "id": "DsdysJ7sAaX9"
      },
      "outputs": [],
      "source": [
        "import os\n",
        "import re\n",
        "\n",
        "def find_output_files(folder_path, start_num, end_num):\n",
        "    \"\"\"\n",
        "    查找指定文件夹中指定序号之间的子文件夹的 output 文件夹中的所有文件路径。\n",
        "\n",
        "    Args:\n",
        "        folder_path (str): 要查找的文件夹的路径。\n",
        "        start_num (int): 子文件夹序号的起始值（包含）。\n",
        "        end_num (int): 子文件夹序号的结束值（包含）。\n",
        "\n",
        "    Returns:\n",
        "        list: 包含所有目标文件路径的字符串列表。\n",
        "    \"\"\"\n",
        "    all_files = []\n",
        "\n",
        "    for item in os.listdir(folder_path):\n",
        "        item_path = os.path.join(folder_path, item)\n",
        "        if os.path.isdir(item_path):\n",
        "\n",
        "            match = re.match(r'(\\d+)', item)\n",
        "            if match:\n",
        "                try:\n",
        "                    folder_num = int(match.group(1))\n",
        "                except ValueError:\n",
        "                   continue\n",
        "                if start_num <= folder_num <= end_num:\n",
        "                    output_folder = os.path.join(item_path, \"output\")\n",
        "                    if os.path.exists(output_folder) and os.path.isdir(output_folder):\n",
        "                        for root, _, files in os.walk(output_folder):\n",
        "                            for file in files:\n",
        "                                file_path = os.path.join(root, file)\n",
        "                                all_files.append(file_path)\n",
        "\n",
        "    return all_files\n",
        "\n",
        "filelist = find_output_files(temp_1_dir, start_number, end_number)"
      ]
    },
    {
      "cell_type": "markdown",
      "metadata": {
        "id": "15Wij_L1AaX9"
      },
      "source": [
        "## 章节内容的写作和润色的通用函数"
      ]
    },
    {
      "cell_type": "code",
      "execution_count": null,
      "metadata": {
        "id": "7CMJEC8fAaX9"
      },
      "outputs": [],
      "source": [
        "import concurrent.futures\n",
        "import time\n",
        "\n",
        "def process_single_file(prompt, file_path):\n",
        "    \"\"\"\n",
        "    处理单个文件的核心函数。\n",
        "\n",
        "    Args:\n",
        "        prompt (str): 输入的提示词字符串。\n",
        "        file_path (str): 要处理的文件路径。\n",
        "    \"\"\"\n",
        "    try:\n",
        "        input_file = file_to_string(file_path)\n",
        "        if not input_file:\n",
        "            print(f\"跳过空文件或无法读取的文件: {file_path}\")\n",
        "            return\n",
        "\n",
        "        answer_1 = generate_text(prompt + \"\\n\" + input_file)\n",
        "        string_to_file(answer_1, file_path)\n",
        "        print(f\"处理完成: {file_path}\")\n",
        "    except Exception as e:\n",
        "        print(f\"处理文件时出错: {file_path}, 错误: {e}\")\n",
        "\n",
        "\n",
        "def process_files_with_concurrency(prompt, file_paths, concurrency= max_workers, request_interval=0.1):\n",
        "    \"\"\"\n",
        "    使用线程池并发处理多个文件，并控制并发请求的时间间隔。\n",
        "\n",
        "    Args:\n",
        "        prompt (str): 输入的提示词字符串。\n",
        "        file_paths (list[str]): 要处理的文件路径列表。\n",
        "        concurrency (int, optional): 并发线程数量\n",
        "        request_interval (int, optional): 并发任务请求的时间间隔（秒），默认为 0.1s。\n",
        "    \"\"\"\n",
        "    with concurrent.futures.ThreadPoolExecutor(max_workers=concurrency) as executor:\n",
        "        futures = []\n",
        "        for file_path in file_paths:\n",
        "            future = executor.submit(process_single_file, prompt, file_path)\n",
        "            futures.append(future)\n",
        "            time.sleep(request_interval)  # 添加时间间隔\n",
        "\n",
        "        for future in concurrent.futures.as_completed(futures):\n",
        "            future.result()  # 检查是否有异常抛出，如果有则会重新抛出"
      ]
    },
    {
      "cell_type": "markdown",
      "metadata": {
        "id": "Ok-dHnLsAaYD"
      },
      "source": [
        "# 定义提示词"
      ]
    },
    {
      "cell_type": "code",
      "execution_count": null,
      "metadata": {
        "id": "3zoQIWrpAaYD"
      },
      "outputs": [],
      "source": [
        "TextCrafting = file_to_string('assets_compose/TextCrafting.txt')\n",
        "PolishedDraft = file_to_string('assets_compose/PolishedDraft.txt')\n",
        "PerfectText  = file_to_string('assets_compose/PerfectText.txt')"
      ]
    },
    {
      "cell_type": "markdown",
      "metadata": {
        "id": "rV2CtxVIAaYE"
      },
      "source": [
        "## 小说创作"
      ]
    },
    {
      "cell_type": "code",
      "execution_count": null,
      "metadata": {
        "colab": {
          "background_save": true,
          "base_uri": "https://localhost:8080/"
        },
        "id": "MDmDKJ18AaYF",
        "outputId": "a6324f43-fee3-4fa1-aa2b-46ab721319ab"
      },
      "outputs": [],
      "source": [
        "process_files_with_concurrency(TextCrafting,filelist)"
      ]
    },
    {
      "cell_type": "markdown",
      "metadata": {
        "id": "eUrHxgWWAaYG"
      },
      "source": [
        "## 去除标题"
      ]
    },
    {
      "cell_type": "code",
      "execution_count": null,
      "metadata": {
        "colab": {
          "background_save": true
        },
        "id": "2zyRvpqhAaYH",
        "outputId": "737818b2-5802-4998-83da-b36e63d740b9"
      },
      "outputs": [],
      "source": [
        "import re\n",
        "import os\n",
        "\n",
        "def remove_brackets_and_contents_line(file_paths):\n",
        "    \"\"\"\n",
        "    删除文件中包含[]及其内部内容的整行，并避免出现空行\n",
        "    :param file_paths: 包含文件路径的列表\n",
        "    \"\"\"\n",
        "    # 正则表达式匹配包含[]及其内容的整行\n",
        "    pattern = r'.*\\[.*?\\][^\\n]*\\n?'  # 修改了正则表达式，匹配一整行\n",
        "\n",
        "    for file_path in file_paths:\n",
        "        # 检查文件是否存在\n",
        "        if not os.path.exists(file_path):\n",
        "            print(f\"文件 {file_path} 不存在，跳过处理。\")\n",
        "            continue\n",
        "\n",
        "        try:\n",
        "            # 读取文件内容\n",
        "            with open(file_path, 'r', encoding='utf-8') as file:\n",
        "                content = file.read()\n",
        "\n",
        "            # 使用正则表达式替换匹配的整行为空字符串\n",
        "            new_content = re.sub(pattern, '', content)\n",
        "\n",
        "             # 确保文件末尾有换行\n",
        "            if new_content and not new_content.endswith('\\n'):\n",
        "                new_content += '\\n'\n",
        "\n",
        "            # 将修改后的内容写回文件\n",
        "            with open(file_path, 'w', encoding='utf-8') as file:\n",
        "                file.write(new_content)\n",
        "\n",
        "            print(f\"文件 {file_path} 中包含[]的行已被删除。\")\n",
        "        except Exception as e:\n",
        "            print(f\"处理文件 {file_path} 时发生错误：{e}\")\n",
        "\n",
        "remove_brackets_and_contents_line(filelist)"
      ]
    },
    {
      "cell_type": "markdown",
      "metadata": {
        "id": "UUyIhQYDAaYH"
      },
      "source": [
        "## 构建缓存文件夹"
      ]
    },
    {
      "cell_type": "code",
      "execution_count": null,
      "metadata": {
        "colab": {
          "background_save": true
        },
        "id": "65EwIXYaAaYH"
      },
      "outputs": [],
      "source": [
        "import os\n",
        "import shutil\n",
        "\n",
        "def copy_output_files(root_dir, start_num, end_num, output_dir):\n",
        "    \"\"\"\n",
        "    遍历指定文件夹中数字命名的子文件夹，复制其 output 文件夹中的文件到指定输出文件夹。\n",
        "\n",
        "    Args:\n",
        "        root_dir (str): 根文件夹路径。\n",
        "        start_num (int): 子文件夹数字名称的起始值（包含）。\n",
        "        end_num (int): 子文件夹数字名称的结束值（包含）。\n",
        "        output_dir (str): 输出文件存放的文件夹路径。\n",
        "    \"\"\"\n",
        "\n",
        "    if not os.path.exists(output_dir):\n",
        "        os.makedirs(output_dir)  # 创建输出文件夹如果不存在\n",
        "\n",
        "    for item in os.listdir(root_dir):\n",
        "        item_path = os.path.join(root_dir, item)\n",
        "\n",
        "        if os.path.isdir(item_path) and item.isdigit():\n",
        "            try:\n",
        "                num = int(item)\n",
        "                if start_num <= num <= end_num:\n",
        "                    output_folder = os.path.join(item_path, \"output\")\n",
        "                    if os.path.exists(output_folder) and os.path.isdir(output_folder):\n",
        "                        for file in os.listdir(output_folder):\n",
        "                           file_path = os.path.join(output_folder, file)\n",
        "                           if os.path.isfile(file_path):\n",
        "                              shutil.copy(file_path, output_dir)\n",
        "            except ValueError:\n",
        "                pass # 忽略无法转换为数字的文件夹名\n",
        "\n",
        "goal_dir = os.path.join(temp_2_dir, \"temp_2\")\n",
        "copy_output_files(temp_1_dir, start_number, end_number, goal_dir)"
      ]
    },
    {
      "cell_type": "markdown",
      "metadata": {
        "id": "qCU0_sdqAaYI"
      },
      "source": [
        "## 获取待润色文件地址字符串列表"
      ]
    },
    {
      "cell_type": "code",
      "execution_count": null,
      "metadata": {
        "colab": {
          "background_save": true
        },
        "id": "EGnhbI6EAaYI"
      },
      "outputs": [],
      "source": [
        "import os\n",
        "\n",
        "def list_file_paths(folder_path):\n",
        "  \"\"\"\n",
        "  列出指定文件夹路径中所有文件的绝对路径。\n",
        "\n",
        "  Args:\n",
        "    folder_path: 字符串，要扫描的文件夹路径。\n",
        "\n",
        "  Returns:\n",
        "    一个列表，包含文件夹中所有文件的绝对路径字符串。\n",
        "    如果文件夹不存在或不是一个文件夹，则返回一个空列表。\n",
        "  \"\"\"\n",
        "  file_paths = []\n",
        "  if not os.path.exists(folder_path) or not os.path.isdir(folder_path):\n",
        "    return file_paths  # 返回空列表，文件夹不存在或不是文件夹\n",
        "\n",
        "  for root, _, files in os.walk(folder_path):\n",
        "    for file in files:\n",
        "      file_path = os.path.join(root, file)\n",
        "      file_paths.append(file_path)\n",
        "  return file_paths\n",
        "\n",
        "filelist = list_file_paths(goal_dir)"
      ]
    },
    {
      "cell_type": "markdown",
      "metadata": {
        "id": "wrKrXfCEAaYJ"
      },
      "source": [
        "## 小说润色"
      ]
    },
    {
      "cell_type": "code",
      "execution_count": null,
      "metadata": {
        "colab": {
          "background_save": true
        },
        "id": "Xn7ov_eNAaYK",
        "outputId": "d22ec832-098a-445c-ac1b-5429aa196cbb"
      },
      "outputs": [],
      "source": [
        "process_files_with_concurrency(PolishedDraft,filelist)"
      ]
    },
    {
      "cell_type": "markdown",
      "metadata": {
        "id": "EZhD_ykiAaYK"
      },
      "source": [
        "## 移动最终目录"
      ]
    },
    {
      "cell_type": "code",
      "execution_count": null,
      "metadata": {
        "colab": {
          "background_save": true
        },
        "id": "2Am1OGF5AaYK",
        "outputId": "8245da7c-5842-46e2-f911-1a3b5eac8176"
      },
      "outputs": [],
      "source": [
        "import os\n",
        "import shutil\n",
        "\n",
        "def copy_folder_contents(source_folder, destination_folder):\n",
        "    \"\"\"\n",
        "    将源文件夹中的所有内容复制到目标文件夹。\n",
        "    如果目标文件夹不存在，则创建它。\n",
        "\n",
        "    Args:\n",
        "      source_folder: 源文件夹的路径。\n",
        "      destination_folder: 目标文件夹的路径。\n",
        "    \"\"\"\n",
        "    try:\n",
        "        # 检查源文件夹是否存在\n",
        "        if not os.path.exists(source_folder):\n",
        "            print(f\"错误：源文件夹 '{source_folder}' 不存在。\")\n",
        "            return\n",
        "\n",
        "        # 检查目标文件夹是否存在，如果不存在则创建\n",
        "        if not os.path.exists(destination_folder):\n",
        "            os.makedirs(destination_folder)\n",
        "            print(f\"已创建目标文件夹 '{destination_folder}'。\")\n",
        "\n",
        "        # 获取源文件夹中的所有文件和文件夹\n",
        "        for item in os.listdir(source_folder):\n",
        "            source_item_path = os.path.join(source_folder, item)\n",
        "            destination_item_path = os.path.join(destination_folder, item)\n",
        "\n",
        "            try:\n",
        "                # 复制文件或文件夹\n",
        "                if os.path.isfile(source_item_path):\n",
        "                    shutil.copy2(source_item_path, destination_item_path)  # 使用copy2保留元数据\n",
        "                    print(f\"已将文件 '{item}' 从 '{source_folder}' 复制到 '{destination_folder}'。\")\n",
        "                elif os.path.isdir(source_item_path):\n",
        "                    shutil.copytree(source_item_path, destination_item_path)\n",
        "                    print(f\"已将文件夹 '{item}' 从 '{source_folder}' 复制到 '{destination_folder}'。\")\n",
        "                else:\n",
        "                    print(f\"'{item}' 是未知类型，无法复制。\")\n",
        "            except Exception as e:\n",
        "                print(f\"复制 '{item}' 时出错: {e}\")\n",
        "\n",
        "        print(f\"已完成将 '{source_folder}' 中的所有内容复制到 '{destination_folder}'。\")\n",
        "\n",
        "    except Exception as e:\n",
        "        print(f\"出现错误：{e}\")\n",
        "\n",
        "# 示例用法：\n",
        "source_folder = goal_dir  # 请替换为你的源文件夹路径\n",
        "destination_folder = os.path.join(output_dir, \"Output_TXT\")  # 请替换为你的目标文件夹路径\n",
        "copy_folder_contents(source_folder, destination_folder)\n"
      ]
    },
    {
      "cell_type": "markdown",
      "metadata": {
        "id": "aKdsmCgXAaYL"
      },
      "source": [
        "## 获取获取最终目录"
      ]
    },
    {
      "cell_type": "code",
      "execution_count": null,
      "metadata": {
        "colab": {
          "background_save": true
        },
        "id": "UOiO1rBNAaYM"
      },
      "outputs": [],
      "source": [
        "import os\n",
        "\n",
        "def list_file_paths(folder_path):\n",
        "  \"\"\"\n",
        "  列出指定文件夹路径中所有文件的绝对路径。\n",
        "\n",
        "  Args:\n",
        "    folder_path: 字符串，要扫描的文件夹路径。\n",
        "\n",
        "  Returns:\n",
        "    一个列表，包含文件夹中所有文件的绝对路径字符串。\n",
        "    如果文件夹不存在或不是一个文件夹，则返回一个空列表。\n",
        "  \"\"\"\n",
        "  file_paths = []\n",
        "  if not os.path.exists(folder_path) or not os.path.isdir(folder_path):\n",
        "    return file_paths  # 返回空列表，文件夹不存在或不是文件夹\n",
        "\n",
        "  for root, _, files in os.walk(folder_path):\n",
        "    for file in files:\n",
        "      file_path = os.path.join(root, file)\n",
        "      file_paths.append(file_path)\n",
        "  return file_paths\n",
        "\n",
        "filelist = list_file_paths(destination_folder)"
      ]
    },
    {
      "cell_type": "markdown",
      "metadata": {
        "id": "LlIpPdRRAaYM"
      },
      "source": [
        "## 完成最终润色"
      ]
    },
    {
      "cell_type": "code",
      "execution_count": null,
      "metadata": {
        "colab": {
          "background_save": true
        },
        "id": "1LFqRserAaYM",
        "outputId": "7e0a4d65-f476-448e-e4d2-a66e5e13588a"
      },
      "outputs": [],
      "source": [
        "process_files_with_concurrency(PerfectText,filelist)"
      ]
    },
    {
      "cell_type": "markdown",
      "metadata": {
        "id": "9sTTCuMpAaYN"
      },
      "source": [
        "## 输出文件的格式化"
      ]
    },
    {
      "cell_type": "code",
      "execution_count": null,
      "metadata": {
        "colab": {
          "base_uri": "https://localhost:8080/"
        },
        "id": "6E3r72kvAaYN",
        "outputId": "d556265c-31a0-482e-cdce-16438d523cbb"
      },
      "outputs": [],
      "source": [
        "import os\n",
        "import shutil\n",
        "\n",
        "def process_txt_files(folder_path):\n",
        "    \"\"\"\n",
        "    遍历指定文件夹中的所有 txt 文件，使用 extract_code_blocks 函数提取代码块，\n",
        "    并将提取的代码块保存为 .md 格式的文件。\n",
        "\n",
        "    Args:\n",
        "        folder_path: 目标文件夹的路径。\n",
        "    \"\"\"\n",
        "\n",
        "    md_files_dir = os.path.join(os.path.abspath(os.path.join(folder_path, '..')), \"Output_MD\")  # 创建 MD 文件保存目录\n",
        "    os.makedirs(md_files_dir, exist_ok=True)  # 确保目录存在，如果存在则不报错\n",
        "\n",
        "    for filename in os.listdir(folder_path):\n",
        "        if filename.endswith(\".txt\"):\n",
        "            txt_file_path = os.path.join(folder_path, filename)\n",
        "            md_filename = os.path.splitext(filename)[0] + \".md\"  # 构建输出 MD 文件名\n",
        "            md_file_path = os.path.join(md_files_dir, md_filename)\n",
        "\n",
        "            try:\n",
        "                with open(txt_file_path, 'r', encoding='utf-8') as infile, \\\n",
        "                     open(md_file_path, 'w', encoding='utf-8') as outfile:\n",
        "\n",
        "                    text = infile.read()  # 读取整个文件内容\n",
        "                    code_blocks = extract_code_blocks(text)  # 提取代码块,提取所有代码块\n",
        "\n",
        "                    outfile.write(code_blocks)  # 将提取的代码块写入 MD 文件\n",
        "\n",
        "                print(f\"已处理文件: {filename} -> {md_filename}\")\n",
        "\n",
        "            except Exception as e:\n",
        "                print(f\"处理文件 {filename} 时出错：{e}\")\n",
        "\n",
        "    print(f\"\\n所有文件已处理完毕，MD 文件保存在: {md_files_dir}\")\n",
        "\n",
        "\n",
        "process_txt_files(destination_folder)"
      ]
    },
    {
      "cell_type": "markdown",
      "metadata": {
        "id": "smqBBLXdAaYN"
      },
      "source": [
        "## 构建Word文件夹\n",
        "```python\n",
        "pip install python-docx\n",
        "```"
      ]
    },
    {
      "cell_type": "code",
      "execution_count": null,
      "metadata": {
        "colab": {
          "base_uri": "https://localhost:8080/"
        },
        "id": "zRJQeNzdAaYO",
        "outputId": "8ac33c0a-0088-4b11-c6c3-2ada24c64827"
      },
      "outputs": [],
      "source": [
        "import os\n",
        "from docx import Document\n",
        "from docx.shared import Pt\n",
        "from docx.enum.style import WD_STYLE_TYPE\n",
        "from docx.oxml.ns import qn\n",
        "from docx.shared import RGBColor\n",
        "\n",
        "\n",
        "def convert_md_to_doc_with_format(base_path):\n",
        "    \"\"\"\n",
        "    在指定路径中查找 Output_MD 文件夹，并将其中的 md 文件转换为 doc 文件，\n",
        "    应用自定义格式：\n",
        "        - 无 '#' 开头的行：楷体，二号字，黑色。\n",
        "        - '#' 开头的行：移除所有 '#'，楷体，二号字，加粗，浅蓝色。\n",
        "    同时在同级目录下创建 Output_Word 文件夹。\n",
        "\n",
        "    Args:\n",
        "        base_path (str): 基础路径，函数将在这个路径下寻找 Output_MD 文件夹。\n",
        "    \"\"\"\n",
        "    md_files_dir = None\n",
        "    for item in os.listdir(base_path):\n",
        "        if os.path.isdir(os.path.join(base_path, item)) and item == \"Output_MD\":\n",
        "            md_files_dir = os.path.join(base_path, item)\n",
        "            break\n",
        "\n",
        "    if not md_files_dir:\n",
        "        print(\"Error: Output_MD not found in the given path.\")\n",
        "        return\n",
        "\n",
        "    word_files_dir = os.path.join(base_path, \"Output_Word\")\n",
        "    os.makedirs(word_files_dir, exist_ok=True)  # 创建 Output_Word 文件夹，如果存在则不报错\n",
        "\n",
        "    for filename in os.listdir(md_files_dir):\n",
        "        if filename.lower().endswith(\".md\"):\n",
        "            md_filepath = os.path.join(md_files_dir, filename)\n",
        "            doc_filename = os.path.splitext(filename)[0] + \".docx\"\n",
        "            doc_filepath = os.path.join(word_files_dir, doc_filename)\n",
        "\n",
        "            try:\n",
        "                with open(md_filepath, \"r\", encoding=\"utf-8\") as md_file:\n",
        "                    lines = md_file.readlines()\n",
        "\n",
        "                # 创建 docx 文档并添加内容\n",
        "                document = Document()\n",
        "\n",
        "                # 设置全局字体为楷体\n",
        "                style = document.styles.add_style('KaiTi', WD_STYLE_TYPE.PARAGRAPH)\n",
        "                style.font.name = '楷体'\n",
        "                style._element.rPr.rFonts.set(qn('w:eastAsia'), '楷体')\n",
        "\n",
        "                for line in lines:\n",
        "                    line = line.strip()  # 去除行首尾的空白字符\n",
        "                    if not line:  # 跳过空行\n",
        "                        continue\n",
        "\n",
        "                    if line.startswith(\"#\"):\n",
        "                        # 处理标题行\n",
        "                        cleaned_line = line.lstrip(\"#\").strip()  # 删除所有#并去除首尾空白\n",
        "                        paragraph = document.add_paragraph(style=\"KaiTi\")\n",
        "                        run = paragraph.add_run(cleaned_line)\n",
        "                        run.font.size = Pt(22)\n",
        "                        run.font.bold = True\n",
        "                        run.font.color.rgb = RGBColor(110, 155, 197)  # 浅蓝色(light blue)\n",
        "                    else:\n",
        "                        # 处理普通行\n",
        "                        paragraph = document.add_paragraph(style=\"KaiTi\")\n",
        "                        run = paragraph.add_run(line)\n",
        "                        run.font.size = Pt(22)\n",
        "\n",
        "                # 保存文档为 .docx 格式\n",
        "                document.save(doc_filepath)\n",
        "                print(f\"Converted: {filename} -> {doc_filename}\")\n",
        "            except Exception as e:\n",
        "                print(f\"Error processing {filename}: {e}\")\n",
        "\n",
        "convert_md_to_doc_with_format(output_dir)"
      ]
    },
    {
      "cell_type": "markdown",
      "metadata": {
        "id": "1A6xnO_sAaYO"
      },
      "source": [
        "## 统计报告\n",
        "- 总字数\n",
        "- 少于1000字的文件名\n",
        "```\n",
        "pip install tabulate\n",
        "```"
      ]
    },
    {
      "cell_type": "code",
      "execution_count": null,
      "metadata": {
        "colab": {
          "base_uri": "https://localhost:8080/"
        },
        "id": "0vAKsHFVAaYQ",
        "outputId": "bec81356-264d-4d85-d7d6-1f1b93cf9b2e"
      },
      "outputs": [],
      "source": [
        "import os\n",
        "from collections import Counter\n",
        "from tabulate import tabulate\n",
        "import re\n",
        "\n",
        "def xiaoshuo_tongji(folder_path, output_path):\n",
        "    \"\"\"\n",
        "    统计文件夹中所有 txt 小说文件的字数信息，并以 Markdown 格式输出到文件。\n",
        "\n",
        "    Args:\n",
        "        folder_path (str): 文件夹的路径。\n",
        "        output_path (str): 输出 Markdown 文件的路径。\n",
        "    \"\"\"\n",
        "\n",
        "    file_paths = [os.path.join(folder_path, f) for f in os.listdir(folder_path) if f.endswith('.txt')]\n",
        "    file_word_counts = []\n",
        "    file_paths_dict = {}  # 用于存储文件路径和字数的字典\n",
        "\n",
        "    for file_path in file_paths:\n",
        "        try:\n",
        "            with open(file_path, 'r', encoding='utf-8') as f:\n",
        "                content = f.read()\n",
        "\n",
        "                # 使用字符串长度计算中文字符数量\n",
        "                word_count = len(content.replace('\\n','').replace(' ','').replace('\\r',''))\n",
        "                file_word_counts.append(word_count)\n",
        "                file_paths_dict[file_path] = word_count  # 将文件路径和字数对应\n",
        "\n",
        "        except Exception as e:\n",
        "            print(f\"读取文件 {file_path} 时出错: {e}\")\n",
        "            continue\n",
        "\n",
        "    if not file_word_counts:\n",
        "        print(\"文件夹中没有找到任何 txt 文件。\")\n",
        "        return\n",
        "\n",
        "    # 基础统计\n",
        "    total_files = len(file_word_counts)\n",
        "    total_word_count = sum(file_word_counts)\n",
        "    avg_word_count = total_word_count // total_files\n",
        "    max_word_count = max(file_word_counts)\n",
        "    min_word_count = min(file_word_counts)\n",
        "\n",
        "    # 找到最大和最小字数对应的文件路径\n",
        "    max_file_path = [path for path, count in file_paths_dict.items() if count == max_word_count][0]\n",
        "    min_file_path = [path for path, count in file_paths_dict.items() if count == min_word_count][0]\n",
        "\n",
        "    # 字数中位数 (手动计算)\n",
        "    sorted_word_counts = sorted(file_word_counts)\n",
        "    mid = total_files // 2\n",
        "    if total_files % 2 == 0:\n",
        "        median_word_count = (sorted_word_counts[mid - 1] + sorted_word_counts[mid]) // 2\n",
        "    else:\n",
        "        median_word_count = sorted_word_counts[mid]\n",
        "\n",
        "    # 字数区间\n",
        "    bins = [0, 800, 1000, 1200, 1500, 1800, 2000, 2300, 2500, 2700, 3000, 3300, 3500, 4000, 5000, 6000, float('inf')]\n",
        "    labels = ['800以下', '1000-1200', '1200-1500', '1500-1800', '1800-2000', '2000-2300', '2300-2500', '2500-2700', '2700-3000', '3000-3300', '3300-3500', '3500-4000', '4000-5000', '5000-6000', '6000以上']\n",
        "\n",
        "    word_count_freq = Counter()\n",
        "    for count in file_word_counts:\n",
        "        for i in range(len(bins) - 1):\n",
        "            if bins[i] < count <= bins[i+1]:\n",
        "                if i == len(bins) - 2:  # 处理最后一个区间\n",
        "                    word_count_freq[labels[-1]] += 1\n",
        "                else:\n",
        "                    word_count_freq[labels[i]] += 1\n",
        "                break\n",
        "\n",
        "     # 创建 Markdown 表格, 添加文件路径链接\n",
        "    table_data = [\n",
        "        [\"总文件数\", total_files, \"\"],  # 第3列留空\n",
        "        [\"平均字数\", avg_word_count, \"\"],\n",
        "        [\"字数中位数\", median_word_count, \"\"],\n",
        "        [\"最大字数\", max_word_count, f\"[{os.path.basename(max_file_path)}]({max_file_path})\"],\n",
        "        [\"最小字数\", min_word_count, f\"[{os.path.basename(min_file_path)}]({min_file_path})\"],\n",
        "        [\"总字数\", total_word_count, \"\"],\n",
        "    ]\n",
        "    table_headers = [\"指标\", \"数值\", \"文件路径\"]\n",
        "    table = tabulate(table_data, headers=table_headers, tablefmt=\"grid\") # 使用 \"grid\" 表格格式\n",
        "\n",
        "\n",
        "    # 字数区间分布表格 (只显示数量大于0的行, 并按区间排序)\n",
        "    range_table_data = [[interval, count] for interval, count in word_count_freq.items() if count > 0]\n",
        "    range_table_data.sort(key=lambda x: bins[labels.index(x[0])])  # 根据 bins 中的顺序排序\n",
        "    range_table_headers = [\"字数区间\", \"文件数量\"]\n",
        "    range_table = tabulate(range_table_data, headers=range_table_headers, tablefmt=\"grid\")\n",
        "\n",
        "\n",
        "\n",
        "    # 写入 Markdown 文件\n",
        "    with open(output_path, 'w', encoding='utf-8') as f:\n",
        "        f.write(\"# 小说数据统计\\n\\n\")\n",
        "        f.write(\"## 总体统计\\n\\n\")\n",
        "        f.write(table + \"\\n\\n\")\n",
        "        f.write(\"## 字数区间分布\\n\\n\")\n",
        "        f.write(range_table + \"\\n\\n\")\n",
        "\n",
        "    print(f\"统计结果已保存到: {output_path}\")\n",
        "\n",
        "# 示例用法\n",
        "folder_path = os.path.join(output_dir, \"Output_TXT\")  # 替换为你的小说文件夹路径\n",
        "output_path = os.path.join(output_dir, \"statistics.md\")  # 替换为你的输出文件路径\n",
        "\n",
        "xiaoshuo_tongji(folder_path, output_path)"
      ]
    },
    {
      "cell_type": "markdown",
      "metadata": {
        "id": "MMVVfkibR4AV"
      },
      "source": [
        "## 在colab中打包并下载"
      ]
    },
    {
      "cell_type": "code",
      "execution_count": null,
      "metadata": {
        "colab": {
          "base_uri": "https://localhost:8080/",
          "height": 17
        },
        "id": "XX-nM5bLR876",
        "outputId": "837d2b58-5f62-4274-b5a7-d0302efaaf9b"
      },
      "outputs": [],
      "source": [
        "import shutil\n",
        "from google.colab import files\n",
        "\n",
        "# 定义文件夹路径和压缩包名称\n",
        "folder_path = \"/content/生成书籍/output\"\n",
        "zip_path = \"/content/output.zip\"\n",
        "\n",
        "# 打包为zip\n",
        "shutil.make_archive(zip_path.replace(\".zip\", \"\"), 'zip', folder_path)\n",
        "\n",
        "# 下载文件\n",
        "files.download(zip_path)\n"
      ]
    }
  ],
  "metadata": {
    "colab": {
      "provenance": []
    },
    "kernelspec": {
      "display_name": "Python 3",
      "language": "python",
      "name": "python3"
    },
    "language_info": {
      "codemirror_mode": {
        "name": "ipython",
        "version": 3
      },
      "file_extension": ".py",
      "mimetype": "text/x-python",
      "name": "python",
      "nbconvert_exporter": "python",
      "pygments_lexer": "ipython3",
      "version": "3.13.2"
    }
  },
  "nbformat": 4,
  "nbformat_minor": 0
}
